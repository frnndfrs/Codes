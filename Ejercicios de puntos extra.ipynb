{
  "cells": [
    {
      "cell_type": "markdown",
      "metadata": {
        "id": "view-in-github",
        "colab_type": "text"
      },
      "source": [
        "<a href=\"https://colab.research.google.com/github/frnndfrs/Codes/blob/main/Ejercicios%20de%20puntos%20extra.ipynb\" target=\"_parent\"><img src=\"https://colab.research.google.com/assets/colab-badge.svg\" alt=\"Open In Colab\"/></a>"
      ]
    },
    {
      "cell_type": "markdown",
      "metadata": {
        "id": "eBRrX0ZtaKEU"
      },
      "source": [
        "# Problem Set\n",
        "[![Open In Colab](https://colab.research.google.com/assets/colab-badge.svg)](https://colab.research.google.com/github/HesusG/python-decision-making-support-analysis/blob/main/module_1/problem_set.ipynb)"
      ]
    },
    {
      "cell_type": "markdown",
      "metadata": {
        "id": "EKzrcGl4aKEW"
      },
      "source": [
        "## Problem Set Introduction \n",
        "\n",
        "Welcome to the Linear Programming Problem Set! 🙌\n",
        "\n",
        "This set consists of three bi-dimensional linear programming problems that require the application of a systematic six-step approach. These steps include:\n",
        "\n",
        "1. Identify the objective 🎯\n",
        "2. Specify decision variables ✏️\n",
        "3. Formulate the objective function 📋\n",
        "4. Define constraints ⛓️\n",
        "5. Consider hidden conditions 🔍\n",
        "6. Formulate the complete model ⚙️\n",
        "\n",
        "To solve these problems effectively, it is recommended to use Python, a powerful programming language that offers various libraries and solvers for linear programming. 🐍 Make sure to include code implementation for each problem to validate your results. 💻\n",
        "\n",
        "Remember to document your thought process, assumptions, and code implementation. This will aid in understanding the problem-solving approach and serve as a valuable reference.\n",
        "\n",
        "Let's begin solving these bi-dimensional linear programming problems using the six-step methodology and Python programming. Good luck and enjoy the problem-solving journey! 😄\n",
        "\n",
        "\n",
        "![Random Giphy](https://media.giphy.com/media/Ws6T5PN7wHv3cY8xy8/giphy.gif)\n",
        "\n",
        "* Remember to use the following code to install pulp in your notebook and make sure to load it by using import."
      ]
    },
    {
      "cell_type": "code",
      "execution_count": 25,
      "metadata": {
        "id": "-WL6EEjaaKEW",
        "outputId": "3068b08c-f55c-4d19-af09-a4d45759f979",
        "colab": {
          "base_uri": "https://localhost:8080/"
        }
      },
      "outputs": [
        {
          "output_type": "stream",
          "name": "stdout",
          "text": [
            "Looking in indexes: https://pypi.org/simple, https://us-python.pkg.dev/colab-wheels/public/simple/\n",
            "Collecting pulp\n",
            "  Downloading PuLP-2.7.0-py3-none-any.whl (14.3 MB)\n",
            "\u001b[2K     \u001b[90m━━━━━━━━━━━━━━━━━━━━━━━━━━━━━━━━━━━━━━━━\u001b[0m \u001b[32m14.3/14.3 MB\u001b[0m \u001b[31m58.1 MB/s\u001b[0m eta \u001b[36m0:00:00\u001b[0m\n",
            "\u001b[?25hInstalling collected packages: pulp\n",
            "Successfully installed pulp-2.7.0\n"
          ]
        }
      ],
      "source": [
        "!pip install pulp"
      ]
    },
    {
      "cell_type": "code",
      "execution_count": 26,
      "metadata": {
        "id": "FvwIld2BaKEX"
      },
      "outputs": [],
      "source": [
        "from pulp import *"
      ]
    },
    {
      "cell_type": "markdown",
      "metadata": {
        "id": "ekSK6sw_aKEX"
      },
      "source": [
        "## Problem 1\n",
        "A company manufactures and sells two types of hydraulic pumps: 1) Normal and 2) Heavy-duty. The production process for the pumps consists of three activities: assembly, painting, and testing (quality control), with their respective times listed in the table below. The profit contribution from selling a normal pump is $50, while a heavy-duty pump yields a profit of $75. There are 4800 hours available per week for assembly, 1980 hours for painting, and 900 hours for quality testing. Based on past experiences, the company expects to sell 300 normal pumps and 180 heavy-duty pumps. The manager is interested in determining the quantity of pumps to manufacture weekly in order to maximize profits."
      ]
    },
    {
      "cell_type": "markdown",
      "metadata": {
        "id": "AjzgQsLgaKEX"
      },
      "source": [
        "|    Type     | Assembly Time | Painting Time | Testing Time |\n",
        "|-------------|---------------|---------------|--------------|\n",
        "|   Normal    |      3.6      |      1.6      |     0.6      |\n",
        "|   Heavy-duty |      4.8      |      1.8      |     0.6      |\n"
      ]
    },
    {
      "cell_type": "code",
      "execution_count": 28,
      "metadata": {
        "id": "ytT7nubmaKEX",
        "colab": {
          "base_uri": "https://localhost:8080/"
        },
        "outputId": "cad6137a-e760-478c-88c7-330a0f0f9c43"
      },
      "outputs": [
        {
          "output_type": "stream",
          "name": "stdout",
          "text": [
            "Optimal Solution\n",
            "Normal 300.0\n",
            "Heavy-Dutty 775.0\n",
            "Profit 73125.0\n"
          ]
        }
      ],
      "source": [
        "#Step 1\n",
        "prob = LpProblem(\"Maximize_profits\", LpMaximize)\n",
        "\n",
        "#Identify decision variable\n",
        "x1 = LpVariable(\"Normal\", lowBound=0, cat=\"integer\")\n",
        "x2 = LpVariable(\"Heavy-Duty\", lowBound=0, cat=\"integer\")\n",
        "\n",
        "#Obejtive function \n",
        "prob += 50*x1 + 75*x2, \"Maximize_profits\"\n",
        "\n",
        "#Constraints\n",
        "prob += 3.6*x1 + 4.8*x2 <= 4800, \"Assembly_constraint\"\n",
        "prob += 1.6*x1 + 1.8*x2 <= 1980, \"Painting_constraint\"\n",
        "prob += 0.6*x1 + 0.6*x2 <= 900, \"Testing_constraint\"\n",
        "\n",
        "prob += x1 >=300, \"NORMAL_constraint\"\n",
        "prob += x2 >=180, \"HEAVY_constraint\"\n",
        "\n",
        "prob.solve()\n",
        "print(\"Optimal Solution\")\n",
        "print(\"Normal\", x1.varValue)\n",
        "print(\"Heavy-Dutty\", x2.varValue)\n",
        "print(\"Profit\", prob.objective.value())\n"
      ]
    },
    {
      "cell_type": "markdown",
      "metadata": {
        "id": "b0zhWXb_aKEX"
      },
      "source": [
        "## Problem 2\n",
        " A company is interested in developing a fertilizer that contains a minimum of 100 units of potassium, 25 units of nitrogen, and 10 units of ammonia. For this purpose, they have products A and B, which cost 10 and 15 euros per ton in the market, respectively. The content of potassium, nitrogen, and ammonia per ton of product is shown in the following table.\n",
        "\n"
      ]
    },
    {
      "cell_type": "markdown",
      "metadata": {
        "id": "PHLnh_55aKEY"
      },
      "source": [
        "|      | POTASSIUM | NITROGEN | AMMONIA |\n",
        "|---------|------------|----------|---------|\n",
        "| Product A |      2       |      0.3     |     0.2    |\n",
        "| Product B |      1       |      0.6     |     0.2    |\n"
      ]
    },
    {
      "cell_type": "code",
      "execution_count": 33,
      "metadata": {
        "id": "ssQKj39daKEY",
        "colab": {
          "base_uri": "https://localhost:8080/"
        },
        "outputId": "ebd1392c-f2af-4e12-da6e-e5ed96b634b5"
      },
      "outputs": [
        {
          "output_type": "stream",
          "name": "stdout",
          "text": [
            "Optimal Solution\n",
            "A 16.666667\n",
            "B 33.333333\n",
            "Profit 666.6666650000001\n"
          ]
        }
      ],
      "source": [
        "# Your code goes here\n",
        "prob = LpProblem(\"Maximize_units\", LpMaximize)\n",
        "\n",
        "x1 = LpVariable(\"A\", lowBound=0, cat=\"integer\")\n",
        "x2 = LpVariable(\"B\", lowBound=0, cat=\"integer\")\n",
        "\n",
        "prob += 10*x1 + 15*x2, \"Maximize_units\"\n",
        "\n",
        "prob += 2*x1 + 1*x2 <= 100, \"Potassium\"\n",
        "prob += 0.3*x1 + 0.6*x2 <= 25, \"Nitrogen\"\n",
        "prob += 0.2*x1 + 0.2*x2 <= 10, \"Ammonia\"\n",
        "\n",
        "prob.solve()\n",
        "print(\"Optimal Solution\")\n",
        "print(\"A\", x1.varValue)\n",
        "print(\"B\", x2.varValue)\n",
        "print(\"Profit\", prob.objective.value())"
      ]
    },
    {
      "cell_type": "markdown",
      "metadata": {
        "id": "s0Z5r_iaaKEY"
      },
      "source": [
        "## Problem 3\n",
        "A bakery is famous for its two specialties: the imperial cake and the lime cake. The imperial cake requires half a kilogram of sugar and eight eggs, and it is sold for eight dollars. The lime cake requires one kilogram of sugar and eight eggs, and it is sold for ten dollars. In the warehouse, there are only ten kilograms of sugar and one hundred twenty eggs. What combination of these specialties can be made?"
      ]
    },
    {
      "cell_type": "markdown",
      "metadata": {
        "id": "kIP01ZuAaKEY"
      },
      "source": [
        "|            | Sugar (kilogram) | Eggs | Price |\n",
        "|------------|-----------------|------|-------|\n",
        "| Imperial Cake |      0.5        |   8   |  $ 8   |\n",
        "| Lime Cake   |        1          |   8   | $ 10  |\n"
      ]
    },
    {
      "cell_type": "code",
      "source": [
        "#Problem 3\n",
        "prob = LpProblem(\"Maximize_production\", LpMaximize)\n",
        "\n",
        "x1 = LpVariable(\"Imperial Cake\", lowBound=0, cat=\"integer\")\n",
        "x2 = LpVariable(\"Lime Cake\", lowBound=0, cat=\"integer\")\n",
        "\n",
        "prob += 8*x1 + 10*x2, \"Minimize_units\"\n",
        "\n",
        "prob += 0.5*x1 + 1*x2 <= 8, \"Sugar\"\n",
        "prob += 8*x1 + 8*x2 <= 8, \"Eggs\"\n",
        "\n",
        "prob.solve()\n",
        "print(\"Optimal Solution\")\n",
        "print(\"Imperial Cake\", x1.varValue)\n",
        "print(\"Lime Cake\", x2.varValue)\n",
        "print(\"Production\", prob.objective.value())"
      ],
      "metadata": {
        "colab": {
          "base_uri": "https://localhost:8080/"
        },
        "id": "xptfuE0qDa8t",
        "outputId": "e1958c91-558e-4223-f36c-edf6e3560c67"
      },
      "execution_count": 36,
      "outputs": [
        {
          "output_type": "stream",
          "name": "stdout",
          "text": [
            "Optimal Solution\n",
            "Imperial Cake 0.0\n",
            "Lime Cake 1.0\n",
            "Production 10.0\n"
          ]
        }
      ]
    }
  ],
  "metadata": {
    "language_info": {
      "name": "python"
    },
    "orig_nbformat": 4,
    "colab": {
      "provenance": [],
      "include_colab_link": true
    },
    "kernelspec": {
      "name": "python3",
      "display_name": "Python 3"
    },
    "gpuClass": "standard"
  },
  "nbformat": 4,
  "nbformat_minor": 0
}